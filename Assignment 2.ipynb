{
 "cells": [
  {
   "cell_type": "markdown",
   "metadata": {},
   "source": [
    "# Assignment 2"
   ]
  },
  {
   "cell_type": "markdown",
   "metadata": {},
   "source": [
    "## Task 1"
   ]
  },
  {
   "cell_type": "markdown",
   "metadata": {},
   "source": [
    "### 1.1\n",
    "### Write a Python Program to implement your own myreduce() function which works exactly like\n",
    "### Python's built-in function reduce()"
   ]
  },
  {
   "cell_type": "code",
   "execution_count": 38,
   "metadata": {},
   "outputs": [
    {
     "name": "stdout",
     "output_type": "stream",
     "text": [
      "362880\n",
      "45\n",
      "978\n",
      "Welcome\n"
     ]
    }
   ],
   "source": [
    "# Defining myreduce function with two arguments; a function and an iterable object\n",
    "def myreduce(func,lis= []):\n",
    "    num = lis[0]                 # Initializing the first value of the iterabla object to the varuable'num'\n",
    "    for i in range(len(lis)-1):  # Iterating a variabla i within the range from 0 to the length of the iterable object -1\n",
    "        num = func(num,lis[i+1]) # Replacing the value of 'num' with the value returned after calling the function with the first argument as 'num' and teh second argumnt as the next value with the index 'i+1'\n",
    "    return num                   # -with the first argument as 'num' and teh second argumnt as the next value with the index 'i+1'\n",
    "\n",
    "# initializing a list with values starting from 1 to 9\n",
    "l1 = [1,2,3,4,5,6,7,8,9]    \n",
    "\n",
    "# Calling the myreduce() function with a lambda funciton that mulitplies two numbers\n",
    "print(myreduce(lambda x,y:x*y, l))\n",
    "\n",
    "# Calling the myreduce() function with a lambda funciton that adds two numbers\n",
    "print(myreduce(lambda x,y:x+y, l))\n",
    "\n",
    "# Initializing another list\n",
    "l2 = [2,4,5,2,3,7,6,8,34,353,978,43,23,345,765,535,234,868]\n",
    "\n",
    "# Calling the myreduce() function with a lambda funciton that compares two numbers in a list and returns the largest one \n",
    "print(myreduce(lambda a,b:a if a>b else b,l2))\n",
    "\n",
    "# Initlalizing another list\n",
    "l3 = ['Good Morning', 'Hello World','Welcome', 'Ola Amigo']\n",
    "\n",
    "# Calling the myreduce() function with a lambda function that compares the lengths of strings in a list and returns the smallest\n",
    "print(myreduce( lambda a,b:a if len(a)<len(b) else b, l3))"
   ]
  },
  {
   "cell_type": "code",
   "execution_count": 44,
   "metadata": {},
   "outputs": [
    {
     "name": "stdout",
     "output_type": "stream",
     "text": [
      "14\n",
      "0\n",
      "siddhant Guru\n"
     ]
    }
   ],
   "source": [
    "# Another Approach\n",
    "\n",
    "# Defining the myreduce function with the aforementioned specifications\n",
    "def myreduce(myfunc,mylist=[]):\n",
    "    if str(mylist[0]).isnumeric(): # Checking whether the first element is numerid\n",
    "        j = int()                  # Initializing a variable'j' as an integer if the first element is numeric\n",
    "    else:\n",
    "        j = str()                  # Initializing a variable'j' as an integer if the first element is not numeric\n",
    "        \n",
    "    for i in mylist:               # Iterating through mylist\n",
    "        j = myfunc(j, i)           # Storing the result of the function in 'j' with arguments 'j' and 'i'\n",
    "    return j                       # Returning the end value\n",
    "\n",
    "# A function that adds all the elements of a iterabla object\n",
    "print(myreduce(lambda x,y:x+y, [2,3,4,5]))\n",
    "\n",
    "# A function that adds all the multiple of a iterabla object\n",
    "print(myreduce(lambda x,y:x*y, [1,2,3]))\n",
    "\n",
    "# A function that concatenates all the elements of a iterabla object\n",
    "print(myreduce(lambda x,y:x+y, ['sid','dhant',' ', 'Guru']))\n"
   ]
  },
  {
   "cell_type": "markdown",
   "metadata": {},
   "source": [
    "### 1.2\n",
    "### Write a Python program to implement your own myfilter() function which works exactly like\n",
    "### Python's built-in function filter()"
   ]
  },
  {
   "cell_type": "code",
   "execution_count": 60,
   "metadata": {},
   "outputs": [
    {
     "name": "stdout",
     "output_type": "stream",
     "text": [
      "[2, 4, 6, 8, 10]\n",
      "['list', 'tupple', 'dictionary']\n"
     ]
    }
   ],
   "source": [
    "# Defiining the myfilter funcion\n",
    "def myfilter(func, lis=[]):\n",
    "    filt_list = []             # Initializing an empty list\n",
    "    for i in lis:              # Iterating through a list\n",
    "        if func(i) == True:    # Checking if the result of the funcion is true\n",
    "            filt_list.append(i)# Appending the in the afore-initialized list if the value is true\n",
    "    return(filt_list)          # Returning the lappended lisst when the iteration is complete\n",
    "\n",
    "# The following filters out all the even numbers\n",
    "print(myfilter(lambda x: x%2 == 0, [1,2,3,4,5,6,7,8,9,10]))\n",
    "\n",
    "# The following filters out all the strings from a list that are more than 3 characters long\n",
    "print(myfilter(lambda x: len(x)> 3, ['int', 'str', 'list','tupple','dictionary']))\n",
    "\n",
    "\n"
   ]
  },
  {
   "cell_type": "markdown",
   "metadata": {},
   "source": [
    "### 2.\n",
    "### Implement List comprehensions to produce the following lists.\n",
    "### Write List comprehensions to produce the following Lists\n",
    "### ['A', 'C', 'A', 'D', 'G', 'I', ’L’, ‘ D’]\n",
    "### ['x', 'xx', 'xxx', 'xxxx', 'y', 'yy', 'yyy', 'yyyy', 'z', 'zz', 'zzz', 'zzzz']\n",
    "### ['x', 'y', 'z', 'xx', 'yy', 'zz', 'xx', 'yy', 'zz', 'xxxx', 'yyyy', 'zzzz']\n",
    "### [[2], [3], [4], [3], [4], [5], [4], [5], [6]]\n",
    "### [[2, 3, 4, 5], [3, 4, 5, 6], [4, 5, 6, 7], [5, 6, 7, 8]]\n",
    "### [(1, 1), (2, 1), (3, 1), (1, 2), (2, 2), (3, 2), (1, 3), (2, 3), (3, 3)]"
   ]
  },
  {
   "cell_type": "code",
   "execution_count": 6,
   "metadata": {},
   "outputs": [
    {
     "name": "stdout",
     "output_type": "stream",
     "text": [
      "['A', 'C', 'A', 'D', 'G', 'I', 'L', 'D']\n",
      "['x', 'xx', 'xxx', 'y', 'yy', 'yyy', 'z', 'zz', 'zzz']\n",
      "[[2], [3], [4], [3], [4], [5], [4], [5], [6]]\n",
      "[[2, 3, 4, 5], [3, 4, 5, 6], [4, 5, 6, 7], [5, 6, 7, 8]]\n"
     ]
    },
    {
     "data": {
      "text/plain": [
       "[(1, 1), (1, 2), (1, 3), (2, 1), (2, 2), (2, 3), (3, 1), (3, 2), (3, 3)]"
      ]
     },
     "execution_count": 6,
     "metadata": {},
     "output_type": "execute_result"
    }
   ],
   "source": [
    "# ['A', 'C', 'A', 'D', 'G', 'I', ’L’, ‘ D’]\n",
    "print([i for i in list('ACADGILD')])\n",
    "\n",
    "# ['x', 'xx', 'xxx', 'xxxx', 'y', 'yy', 'yyy', 'yyyy', 'z', 'zz', 'zzz', 'zzzz']\n",
    "print([i*j for i in ('x','y','z') for j in (1,2,3)])\n",
    "\n",
    "# [[2], [3], [4], [3], [4], [5], [4], [5], [6]]\n",
    "print([[i] for i in [2,3,4]]+[[j] for j in [3,4,5]]+[[k] for k in [4,5,6]])\n",
    "\n",
    "# [[2, 3, 4, 5], [3, 4, 5, 6], [4, 5, 6, 7], [5, 6, 7, 8]]\n",
    "print([[i]+[i+1]+[i+2]+[i+3] for i in range (2,6)])\n",
    "\n",
    "# [(1, 1), (2, 1), (3, 1), (1, 2), (2, 2), (3, 2), (1, 3), (2, 3), (3, 3)]\n",
    "[(i,j) for i in range(1,4) for j in range(1,4)]"
   ]
  },
  {
   "cell_type": "markdown",
   "metadata": {},
   "source": [
    "### 3.\n",
    "### Implement a function longestWord() that takes a list of words and returns the longest one."
   ]
  },
  {
   "cell_type": "code",
   "execution_count": 25,
   "metadata": {},
   "outputs": [
    {
     "data": {
      "text/plain": [
       "'Ranjan'"
      ]
     },
     "execution_count": 25,
     "metadata": {},
     "output_type": "execute_result"
    }
   ],
   "source": [
    "# Using traditional functions\n",
    "\n",
    "# Crating the longestWord funcion traditionally\n",
    "def longestWord(lis):\n",
    "    word = []\n",
    "    for i in range(len(lis)-1):\n",
    "        if len(str(lis[i]))>len(str(lis[i+1])):\n",
    "            return lis[i]\n",
    "\n",
    "# Calling the funcion by passing a sample list as an argument\n",
    "longestWord(['sid','sam','Shilpa','Ranjan','Ved'])"
   ]
  },
  {
   "cell_type": "code",
   "execution_count": 41,
   "metadata": {},
   "outputs": [
    {
     "data": {
      "text/plain": [
       "'Ranjan'"
      ]
     },
     "execution_count": 41,
     "metadata": {},
     "output_type": "execute_result"
    }
   ],
   "source": [
    "# Using lambda and reduce functions\n",
    "\n",
    "# Defining the lambda funcion\n",
    "longestWord = lambda a,b: a if len(a)>len(b) else b\n",
    "\n",
    "# Importing reduce from functools package\n",
    "from functools import reduce\n",
    "\n",
    "# Applying the reduce function by passing the newly created function and a sample list as arguments\n",
    "reduce(longestWord,['sid','sam','Shilpa','Ranjan','Ved'])"
   ]
  },
  {
   "cell_type": "markdown",
   "metadata": {},
   "source": [
    "## Task 2"
   ]
  },
  {
   "cell_type": "markdown",
   "metadata": {},
   "source": [
    "### 1.1\n",
    "### Write a Python Program(with class concepts) to find the area of the triangle using the below\n",
    "### formula.\n",
    "### area = (s*(s-a)*(s-b)*(s-c)) ** 0.5\n",
    "### Function to take the length of the sides of triangle from user should be defined in the parent\n",
    "### class and function to calculate the area should be defined in subclass."
   ]
  },
  {
   "cell_type": "code",
   "execution_count": 40,
   "metadata": {},
   "outputs": [],
   "source": [
    "# Creating a class that inputs the three sides of a triangle and calculates the value of s\n",
    "class triangle:\n",
    "    \n",
    "    def __init__(self, a, b, c):\n",
    "        \n",
    "        self.a = float(a)\n",
    "        self.b = float(b)\n",
    "        self.c = float(c)\n",
    "        self.s = (a+b+c)/2\n",
    "\n",
    "# Creating a class that calculates the area of a triangle\n",
    "class triangle_area(triangle):\n",
    "    \n",
    "    def __init__(self, a,b,c):\n",
    "        super().__init__(a,b,c)\n",
    "        \n",
    "    def area_of_triangle(self):\n",
    "        self.area = (self.s*(self.s-self.a)*(self.s-self.b)*(self.s-self.c)) * 0.5\n",
    "        return 'The area of the given triangle is %s' %(self.area)\n",
    "    \n",
    "    def __str__(self):\n",
    "        return 'This is a triangle object'\n",
    "    "
   ]
  },
  {
   "cell_type": "code",
   "execution_count": 41,
   "metadata": {},
   "outputs": [
    {
     "name": "stdout",
     "output_type": "stream",
     "text": [
      "The area of the given triangle is 18.0\n",
      "This is a triangle object\n"
     ]
    }
   ],
   "source": [
    "# Crating an object of the triangle_area class\n",
    "tri_1 = triangle_area(3,4,5)\n",
    "\n",
    "# Printing out the area of the triangle by calling hte area_of_traingle() funcition within a print statement\n",
    "print(tri_1.area_of_triangle())\n",
    "print(tri_1)"
   ]
  },
  {
   "cell_type": "markdown",
   "metadata": {},
   "source": [
    "### 1.2\n",
    "### Write a function filter_long_words() that takes a list of words and an integer n and returns the list\n",
    "### of words that are longer than n."
   ]
  },
  {
   "cell_type": "code",
   "execution_count": 57,
   "metadata": {},
   "outputs": [],
   "source": [
    "# Creating a class that takes a list and a number\n",
    "class Long_Word_Filter:\n",
    "    \n",
    "    def __init__(self, word_list,n):\n",
    "        self.word_list = word_list\n",
    "        self.n = int(n)\n",
    "    \n",
    "    # Creating a function within the class that retrurns the words that ara longer than the value input\n",
    "    def filter_long_words(self):\n",
    "        return [i for i in self.word_list if len(i)>self.n]"
   ]
  },
  {
   "cell_type": "code",
   "execution_count": 56,
   "metadata": {},
   "outputs": [
    {
     "data": {
      "text/plain": [
       "['This', 'sample', 'input']"
      ]
     },
     "execution_count": 56,
     "metadata": {},
     "output_type": "execute_result"
    }
   ],
   "source": [
    "# Crating an object of the Long_Word_Filter\n",
    "lis = Long_Word_Filter('This is a sample input'.split(),2)\n",
    "\n",
    "# Calling the filter_long_words() funciton with the hle of the above-created object\n",
    "lis.filter_long_words()"
   ]
  },
  {
   "cell_type": "markdown",
   "metadata": {},
   "source": [
    "### 2.1\n",
    "### Write a Python program using function concept that maps list of words into a list of integers\n",
    "### representing the lengths of the corresponding words .\n",
    "### Hint: If a list [ ab,cde,erty] is passed on to the python function output should come as [2,3,4]\n",
    "### Here 2,3 and 4 are the lengths of the words in the list."
   ]
  },
  {
   "cell_type": "code",
   "execution_count": 100,
   "metadata": {},
   "outputs": [],
   "source": [
    "# Crating a class that creates an object with a list as an argument\n",
    "class Txt_to_Len:\n",
    "    \n",
    "    def __init__(self, txt_list):\n",
    "        if isinstance(txt_list, list) == True or isinstance(txt_list, tuple) == True:      \n",
    "            self.txt_list = txt_list                      # This block is a failsafe, \n",
    "        else:                                             # in the case when a different \n",
    "            self.txt_list = list(str(txt_list))           # datatype is passed.\n",
    "\n",
    "    def length_convert(self):\n",
    "        return [len(i) for i in self.txt_list]"
   ]
  },
  {
   "cell_type": "code",
   "execution_count": 102,
   "metadata": {},
   "outputs": [
    {
     "data": {
      "text/plain": [
       "[4, 2, 2, 7, 2, 4, 2, 6, 8]"
      ]
     },
     "execution_count": 102,
     "metadata": {},
     "output_type": "execute_result"
    }
   ],
   "source": [
    "# Creating an object that passes a list \n",
    "lis = Txt_to_Len('This is an example of text to length funciton'.split())\n",
    "\n",
    "# Calling the length_convert() funcion that outputs the length of each word in the list\n",
    "lis.length_convert()"
   ]
  },
  {
   "cell_type": "code",
   "execution_count": 98,
   "metadata": {},
   "outputs": [
    {
     "data": {
      "text/plain": [
       "[1]"
      ]
     },
     "execution_count": 98,
     "metadata": {},
     "output_type": "execute_result"
    }
   ],
   "source": [
    "# Testing out the funciton with an int object as an input.\n",
    "l2 = Txt_to_Len(5)\n",
    "l2.length_convert()"
   ]
  },
  {
   "cell_type": "markdown",
   "metadata": {},
   "source": [
    "### 2.2\n",
    "### Write a Python function which takes a character (i.e. a string of length 1) and returns True if it is\n",
    "### a vowel, False otherwise."
   ]
  },
  {
   "cell_type": "code",
   "execution_count": 103,
   "metadata": {},
   "outputs": [],
   "source": [
    "class Vowel_Checker:\n",
    "    \n",
    "    def __init__(self, alphabet):\n",
    "        self.alphabet = alphabet\n",
    "    \n",
    "    def if_vowel(self):\n",
    "        if self.alphabet in ['a','e','i','o','u']:\n",
    "            return True\n",
    "        else:\n",
    "            return False\n",
    "    \n",
    "    def __str__(self):\n",
    "        return 'This is a Vowel Checker'"
   ]
  },
  {
   "cell_type": "code",
   "execution_count": 105,
   "metadata": {},
   "outputs": [
    {
     "data": {
      "text/plain": [
       "True"
      ]
     },
     "execution_count": 105,
     "metadata": {},
     "output_type": "execute_result"
    }
   ],
   "source": [
    "# Creating an object and passing a vowel \n",
    "\n",
    "let1 = Vowel_Checker('a')\n",
    "let.if_vowel()"
   ]
  },
  {
   "cell_type": "code",
   "execution_count": 108,
   "metadata": {},
   "outputs": [
    {
     "data": {
      "text/plain": [
       "False"
      ]
     },
     "execution_count": 108,
     "metadata": {},
     "output_type": "execute_result"
    }
   ],
   "source": [
    "# Creating an object and passing a consonant \n",
    "\n",
    "\n",
    "let2 = Vowel_Checker('z')\n",
    "let2.if_vowel()"
   ]
  },
  {
   "cell_type": "code",
   "execution_count": null,
   "metadata": {},
   "outputs": [],
   "source": []
  }
 ],
 "metadata": {
  "kernelspec": {
   "display_name": "Python 3",
   "language": "python",
   "name": "python3"
  },
  "language_info": {
   "codemirror_mode": {
    "name": "ipython",
    "version": 3
   },
   "file_extension": ".py",
   "mimetype": "text/x-python",
   "name": "python",
   "nbconvert_exporter": "python",
   "pygments_lexer": "ipython3",
   "version": "3.7.3"
  }
 },
 "nbformat": 4,
 "nbformat_minor": 2
}
