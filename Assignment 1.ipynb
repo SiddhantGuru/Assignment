{
 "cells": [
  {
   "cell_type": "markdown",
   "metadata": {},
   "source": [
    "# Assignment 1"
   ]
  },
  {
   "cell_type": "markdown",
   "metadata": {},
   "source": [
    "## Task 1"
   ]
  },
  {
   "cell_type": "markdown",
   "metadata": {},
   "source": [
    "### 1.\n",
    "### Install Jupyter notebook and run the first program and share the screenshot of the output."
   ]
  },
  {
   "cell_type": "code",
   "execution_count": 37,
   "metadata": {},
   "outputs": [
    {
     "name": "stdout",
     "output_type": "stream",
     "text": [
      "Hello World\n"
     ]
    }
   ],
   "source": [
    "# My first program\n",
    "H = 'Hello'\n",
    "W = 'World'\n",
    "\n",
    "print(H+' '+W)"
   ]
  },
  {
   "cell_type": "markdown",
   "metadata": {},
   "source": [
    "### 2.\n",
    "### Write a program which will find all such numbers which are divisible by 7 but are not a multiple\n",
    "### of 5, between 2000 and 3200 (both included). The numbers obtained should be printed in a\n",
    "### comma-separated sequence on a single line."
   ]
  },
  {
   "cell_type": "code",
   "execution_count": 40,
   "metadata": {
    "scrolled": true
   },
   "outputs": [
    {
     "name": "stdout",
     "output_type": "stream",
     "text": [
      "2002,2009,2016,2023,2037,2044,2051,2058,2072,2079,2086,2093,2107,2114,2121,2128,2142,2149,2156,2163,2177,2184,2191,2198,2212,2219,2226,2233,2247,2254,2261,2268,2282,2289,2296,2303,2317,2324,2331,2338,2352,2359,2366,2373,2387,2394,2401,2408,2422,2429,2436,2443,2457,2464,2471,2478,2492,2499,2506,2513,2527,2534,2541,2548,2562,2569,2576,2583,2597,2604,2611,2618,2632,2639,2646,2653,2667,2674,2681,2688,2702,2709,2716,2723,2737,2744,2751,2758,2772,2779,2786,2793,2807,2814,2821,2828,2842,2849,2856,2863,2877,2884,2891,2898,2912,2919,2926,2933,2947,2954,2961,2968,2982,2989,2996,3003,3017,3024,3031,3038,3052,3059,3066,3073,3087,3094,3101,3108,3122,3129,3136,3143,3157,3164,3171,3178,3192,3199,"
     ]
    }
   ],
   "source": [
    "# Static approach\n",
    "\n",
    "# Creating an emptly list l\n",
    "l = []\n",
    "\n",
    "# Appending the required values into list l\n",
    "for i in range(2000,3201):\n",
    "    if i%7 == 0 and i%5 != 0:\n",
    "        l.append(i)\n",
    "\n",
    "# Printing out the values in list l in a comma separated format\n",
    "for j in range(0,len(l)):\n",
    "    print(l[j], end = ',')\n",
    "    "
   ]
  },
  {
   "cell_type": "code",
   "execution_count": 42,
   "metadata": {
    "scrolled": true
   },
   "outputs": [
    {
     "name": "stdout",
     "output_type": "stream",
     "text": [
      "enter the lower limit: 2000\n",
      "enter the upper limit: 3200\n",
      "2002,2009,2016,2023,2037,2044,2051,2058,2072,2079,2086,2093,2107,2114,2121,2128,2142,2149,2156,2163,2177,2184,2191,2198,2212,2219,2226,2233,2247,2254,2261,2268,2282,2289,2296,2303,2317,2324,2331,2338,2352,2359,2366,2373,2387,2394,2401,2408,2422,2429,2436,2443,2457,2464,2471,2478,2492,2499,2506,2513,2527,2534,2541,2548,2562,2569,2576,2583,2597,2604,2611,2618,2632,2639,2646,2653,2667,2674,2681,2688,2702,2709,2716,2723,2737,2744,2751,2758,2772,2779,2786,2793,2807,2814,2821,2828,2842,2849,2856,2863,2877,2884,2891,2898,2912,2919,2926,2933,2947,2954,2961,2968,2982,2989,2996,3003,3017,3024,3031,3038,3052,3059,3066,3073,3087,3094,3101,3108,3122,3129,3136,3143,3157,3164,3171,3178,3192,3199,"
     ]
    }
   ],
   "source": [
    "# Dynamic approach\n",
    "\n",
    "# Taking the lower limit and the higher limit from the user\n",
    "a = int(input(\"enter the lower limit: \"))\n",
    "b = int(input(\"enter the upper limit: \"))\n",
    "\n",
    "# Creating an emptly list l\n",
    "l = []\n",
    "\n",
    "# Appending the required values into list l\n",
    "for i in range(a,b):\n",
    "    if i%7 == 0 and i%5 != 0:\n",
    "        l.append(i)\n",
    "\n",
    "# Printing out the values in list l in a comma separated format\n",
    "for j in range(0,len(l)):\n",
    "    print(l[j], end = ',')"
   ]
  },
  {
   "cell_type": "markdown",
   "metadata": {},
   "source": [
    "### 3.\n",
    "### Write a Python program to accept the user's first and last name and then getting them printed in\n",
    "### the the reverse order with a space between first name and last name.\n"
   ]
  },
  {
   "cell_type": "code",
   "execution_count": 43,
   "metadata": {
    "scrolled": true
   },
   "outputs": [
    {
     "name": "stdout",
     "output_type": "stream",
     "text": [
      "Enter your first name: Siddhant\n",
      "Enter your last name: Guru\n",
      "tnahddiS uruG\n"
     ]
    }
   ],
   "source": [
    "# Inputing the user's first name\n",
    "fn = input('Enter your first name: ')\n",
    "ln = input('Enter your last name: ')\n",
    "\n",
    "# Reversing the first name\n",
    "fn_inv = ''\n",
    "for i in range(len(fn)-1,-1,-1):\n",
    "    fn_inv = fn_inv + fn[i]\n",
    "\n",
    "# Reversing the last name\n",
    "ln_inv = ''\n",
    "for i in range(len(ln)-1,-1,-1):\n",
    "    ln_inv = ln_inv + ln[i]\n",
    "\n",
    "# Printing out the name in reverse order having a space between the first name and the last name\n",
    "print(fn_inv+' '+ln_inv)\n"
   ]
  },
  {
   "cell_type": "code",
   "execution_count": 45,
   "metadata": {},
   "outputs": [
    {
     "name": "stdout",
     "output_type": "stream",
     "text": [
      "Enter your first name: Siddhant\n",
      "Enter your last name: Guru\n",
      "tnahddiS uruG\n"
     ]
    }
   ],
   "source": [
    "# Another Approach\n",
    "# Inputing the user's first name\n",
    "fn = input('Enter your first name: ')\n",
    "ln = input('Enter your last name: ')\n",
    "\n",
    "# Printing out the reverse name\n",
    "print(fn[::-1]+' '+ ln[::-1])"
   ]
  },
  {
   "cell_type": "markdown",
   "metadata": {},
   "source": [
    "### 4.\n",
    "### Write a Python program to find the volume of a sphere with diameter 12 cm.\n",
    "### Formula: V=4/3 * π * r 3"
   ]
  },
  {
   "cell_type": "code",
   "execution_count": 26,
   "metadata": {},
   "outputs": [
    {
     "name": "stdout",
     "output_type": "stream",
     "text": [
      "The volume of the sphere is: 904.3199999999999\n"
     ]
    }
   ],
   "source": [
    "# Static approach\n",
    "\n",
    "# Initializing all the required values\n",
    "d = 12\n",
    "pi = 3.14\n",
    "r = d/2\n",
    "\n",
    "# Calculating the value of the volume\n",
    "v = (4/3) * pi * (r**3)\n",
    "\n",
    "# printing out the volume of the sphere\n",
    "print('The volume of the sphere is: '+ str(v))"
   ]
  },
  {
   "cell_type": "code",
   "execution_count": 28,
   "metadata": {},
   "outputs": [
    {
     "name": "stdout",
     "output_type": "stream",
     "text": [
      "Enter the diameter of the Sphere: 12\n",
      "The volume of the sphere is: 904.3199999999999\n"
     ]
    }
   ],
   "source": [
    "# Dynamic approach\n",
    "\n",
    "# Initializing all the required values\n",
    "d = int(input(\"Enter the diameter of the Sphere in cms : \"))\n",
    "pi = 3.14\n",
    "r = d/2\n",
    "\n",
    "# Calculating the value of the volume\n",
    "v = (4/3) * pi * (r**3)\n",
    "\n",
    "# printing out the volume of the sphere\n",
    "print('The volume of the sphere is: '+ str(v))"
   ]
  },
  {
   "cell_type": "markdown",
   "metadata": {},
   "source": [
    "## Task 2"
   ]
  },
  {
   "cell_type": "markdown",
   "metadata": {},
   "source": [
    "### 1.\n",
    "### Write a program which accepts a sequence of comma-separated numbers from console and\n",
    "### generate a list."
   ]
  },
  {
   "cell_type": "code",
   "execution_count": 6,
   "metadata": {},
   "outputs": [
    {
     "name": "stdout",
     "output_type": "stream",
     "text": [
      "Enter the comma separated values: 2,3,4,5\n",
      "Your desired list is: \n",
      " [2, 3, 4, 5]\n"
     ]
    }
   ],
   "source": [
    "# Taking the length of the list from the user\n",
    "n = input('Enter the comma separated values: ')\n",
    "\n",
    "l = n.split(sep = ',')\n",
    "for i in range (0,len(l)):\n",
    "    l[i] = int(l[i])\n",
    "\n",
    "print('Your desired list is: \\n', l)\n"
   ]
  },
  {
   "cell_type": "markdown",
   "metadata": {},
   "source": [
    "#### 2.\n",
    "#### Create the below pattern using nested for loop in Python.\n",
    "#### *\n",
    "#### * *\n",
    "#### * * *\n",
    "#### * * * *\n",
    "#### * * * * *\n",
    "#### * * * *\n",
    "#### * * *\n",
    "#### * *\n",
    "#### *"
   ]
  },
  {
   "cell_type": "code",
   "execution_count": 65,
   "metadata": {},
   "outputs": [
    {
     "name": "stdout",
     "output_type": "stream",
     "text": [
      "\n",
      "* \n",
      "* * \n",
      "* * * \n",
      "* * * * \n",
      "* * * * * \n",
      "* * * * \n",
      "* * * \n",
      "* * \n",
      "* \n",
      "\n"
     ]
    }
   ],
   "source": [
    "# Static Approach\n",
    "\n",
    "for i in range(0,6):\n",
    "    for j in range(0,i):\n",
    "        print ('*', end = ' ')\n",
    "    print('')\n",
    "for i in range(5,0,-1):\n",
    "    for j in range(0,i-1):\n",
    "        print('*',end = ' ')\n",
    "    print('')\n"
   ]
  },
  {
   "cell_type": "code",
   "execution_count": 66,
   "metadata": {},
   "outputs": [
    {
     "name": "stdout",
     "output_type": "stream",
     "text": [
      "Enter the maxumum number of stars in the row with the maxumum stars: 5\n",
      "\n",
      "* \n",
      "* * \n",
      "* * * \n",
      "* * * * \n",
      "* * * * * \n",
      "* * * * \n",
      "* * * \n",
      "* * \n",
      "* \n",
      "\n"
     ]
    }
   ],
   "source": [
    "# Dynamic Approach\n",
    "\n",
    "# Taking the maximum number of stars in the row wtih the maximum stars from the user\n",
    "\n",
    "n = int(input('Enter the maxumum number of stars in the row with the maxumum stars: '))\n",
    "\n",
    "# Printing out the stars\n",
    "\n",
    "for i in range(0,n+1):\n",
    "    for j in range(0,i):\n",
    "        print ('*', end = ' ')\n",
    "    print('')\n",
    "for i in range(n,0,-1):\n",
    "    for j in range(0,i-1):\n",
    "        print('*',end = ' ')\n",
    "    print('')"
   ]
  },
  {
   "cell_type": "code",
   "execution_count": 25,
   "metadata": {},
   "outputs": [
    {
     "name": "stdout",
     "output_type": "stream",
     "text": [
      "Enter the maxumum number of stars in the row with the maxumum stars: 5\n",
      "*\n",
      "**\n",
      "***\n",
      "****\n",
      "*****\n",
      "****\n",
      "***\n",
      "**\n",
      "*\n",
      "\n"
     ]
    }
   ],
   "source": [
    "# Another Approach\n",
    "\n",
    "# Taking the maximum number of stars in the row wtih the maximum stars from the user\n",
    "n = int(input('Enter the maxumum number of stars in the row with the maxumum stars: '))\n",
    "\n",
    "star = '*' * n\n",
    "for i in range(0,n):\n",
    "    print(star[:i+1])\n",
    "for i in range(n-1,-1,-1):\n",
    "    print(star[:i])"
   ]
  },
  {
   "cell_type": "markdown",
   "metadata": {},
   "source": [
    "### 3.\n",
    "### Write a Python program to reverse a word after accepting the input from the user.\n",
    "### Sample Output:\n",
    "### Input word: AcadGild\n",
    "### Output: dilGdacA"
   ]
  },
  {
   "cell_type": "code",
   "execution_count": 68,
   "metadata": {},
   "outputs": [
    {
     "name": "stdout",
     "output_type": "stream",
     "text": [
      "Please enter a word: AcadGild\n",
      "dliGdacA\n"
     ]
    }
   ],
   "source": [
    "# Regular Approach\n",
    "# Inputing the word from the user\n",
    "w = input(\"Please enter a word: \")\n",
    "\n",
    "# Initializing a dummy string to put the letters in the reverse order\n",
    "rw = str()\n",
    "\n",
    "for i in range(len(w)-1, -1, -1):\n",
    "    rw = rw + w[i]\n",
    "print(rw)"
   ]
  },
  {
   "cell_type": "code",
   "execution_count": 26,
   "metadata": {},
   "outputs": [
    {
     "name": "stdout",
     "output_type": "stream",
     "text": [
      "Please enter a word: AcadGild\n",
      "dliGdacA\n"
     ]
    }
   ],
   "source": [
    "# Another Approach\n",
    "# Inputing the word from the user\n",
    "w = input(\"Please enter a word: \")\n",
    "\n",
    "# Initializing another string, storing the original string in the reverse order in it\n",
    "rw = w[::-1]\n",
    "\n",
    "print(rw)"
   ]
  },
  {
   "cell_type": "code",
   "execution_count": 15,
   "metadata": {},
   "outputs": [
    {
     "name": "stdout",
     "output_type": "stream",
     "text": [
      "Please enter a word: AcadGild\n",
      "dliGdacA\n"
     ]
    }
   ],
   "source": [
    "# Alternative Approach\n",
    "# Inputing the word from the user\n",
    "w = input(\"Please enter a word: \")\n",
    "\n",
    "# Segregating each letter into a list by typecasting the string into the list\n",
    "l = list(w)\n",
    "\n",
    "# Reversing the list\n",
    "l.reverse()\n",
    "\n",
    "# Joining the list into a single string\n",
    "rw = ''.join(l)\n",
    "\n",
    "# Printing out the reversed word\n",
    "print(rw)"
   ]
  },
  {
   "cell_type": "markdown",
   "metadata": {},
   "source": [
    "### 4.\n",
    "### Write a Python Program to print the given string in the format specified in the sample output.\n",
    "### WE, THE PEOPLE OF INDIA, having solemnly resolved to constitute India into a\n",
    "### SOVEREIGN, SOCIALIST, SECULAR, DEMOCRATIC REPUBLIC and to secure to all\n",
    "### its citizens\n",
    "### Sample Output:\n",
    "\n",
    "### WE, THE PEOPLE OF INDIA,\n",
    "### ______having solemnly resolved to constitute India into a SOVEREIGN, !\n",
    "### ____________SOCIALIST, SECULAR, DEMOCRATIC REPUBLIC\n",
    "### _____________and to secure to all its citizens\n"
   ]
  },
  {
   "cell_type": "code",
   "execution_count": 36,
   "metadata": {},
   "outputs": [
    {
     "name": "stdout",
     "output_type": "stream",
     "text": [
      "WE, THE PEOPLE OF INDIA, \n",
      "      having solemnly resolved to constitute India into a SOVEREIGN, !\n",
      "\t    SOCIALIST, SECULAR, DEMOCRATIC REPUBLIC\n",
      "\t     and to secure to all its citizens\n"
     ]
    }
   ],
   "source": [
    "sentence = \"WE, THE PEOPLE OF INDIA, \\n      having solemnly resolved to constitute India into a SOVEREIGN, !\\n\\t    SOCIALIST, SECULAR, DEMOCRATIC REPUBLIC\\n\\t     and to secure to all its citizens\"\n",
    "print(sentence)\n",
    "    "
   ]
  }
 ],
 "metadata": {
  "kernelspec": {
   "display_name": "Python 3",
   "language": "python",
   "name": "python3"
  },
  "language_info": {
   "codemirror_mode": {
    "name": "ipython",
    "version": 3
   },
   "file_extension": ".py",
   "mimetype": "text/x-python",
   "name": "python",
   "nbconvert_exporter": "python",
   "pygments_lexer": "ipython3",
   "version": "3.7.3"
  }
 },
 "nbformat": 4,
 "nbformat_minor": 2
}
